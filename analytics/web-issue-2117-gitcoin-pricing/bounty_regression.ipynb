{
 "cells": [
  {
   "cell_type": "code",
   "execution_count": 110,
   "metadata": {},
   "outputs": [],
   "source": [
    "import pandas as pd \n",
    "import numpy as np\n",
    "import matplotlib.pyplot as plt\n",
    "import scipy.stats as stats\n",
    "from sklearn import preprocessing\n",
    "from sklearn import linear_model\n",
    "\n",
    "pd.set_option('display.max_columns', 500)\n",
    "pd.set_option('display.width', 1000)\n",
    "pd.set_option('display.notebook_repr_html', False)"
   ]
  },
  {
   "cell_type": "code",
   "execution_count": 111,
   "metadata": {},
   "outputs": [],
   "source": [
    "# load data\n",
    "# df = pd.read_csv('bounty_success_rates_median.csv')\n",
    "df = pd.read_csv('bounty_success_rates_mean.csv')"
   ]
  },
  {
   "cell_type": "code",
   "execution_count": 112,
   "metadata": {},
   "outputs": [
    {
     "data": {
      "text/plain": [
       "    buckets     average     range  num_finished  num_total  success_rate\n",
       "0         1   15.917631    [0,47)         197.0        286      0.688811\n",
       "1         2   32.106570   [2,100)         148.0        202      0.732673\n",
       "2         3   33.021122   [2,148)          96.0        135      0.711111\n",
       "3         4   39.732813   [0,160)          46.0         69      0.666667\n",
       "4         5   49.663153   [2,201)          31.0         54      0.574074\n",
       "5         6   69.036366   [5,251)          18.0         30      0.600000\n",
       "6         7   59.076126   [5,166)          24.0         32      0.750000\n",
       "7         8   39.660653   [5,121)          14.0         20      0.700000\n",
       "8         9   86.709806  [20,401)          13.0         16      0.812500\n",
       "9        10  155.191271  [17,498)           7.0         10      0.700000\n",
       "10       11   32.982269   [14,69)           2.0          4      0.500000\n",
       "11       13  113.916667  [63,201)           4.0          7      0.571429\n",
       "12       14    1.195694     [1,2)           2.0          3      0.666667\n",
       "13       21  103.431857   [4,334)          11.0         19      0.578947"
      ]
     },
     "execution_count": 112,
     "metadata": {},
     "output_type": "execute_result"
    }
   ],
   "source": [
    "df"
   ]
  },
  {
   "cell_type": "code",
   "execution_count": 122,
   "metadata": {},
   "outputs": [],
   "source": [
    "# data modification\n",
    "df = df[\n",
    "    (df['success_rate'] > 0.60) & \n",
    "    (df['success_rate'] <= 1) & \n",
    "    (pd.notnull(df['average'])) &\n",
    "    (df['buckets'] <= 10) &\n",
    "    (df['average'] < 150)\n",
    "]"
   ]
  },
  {
   "cell_type": "code",
   "execution_count": 123,
   "metadata": {},
   "outputs": [
    {
     "data": {
      "text/plain": [
       "   buckets    average     range  num_finished  num_total  success_rate\n",
       "0        1  15.917631    [0,47)         197.0        286      0.688811\n",
       "1        2  32.106570   [2,100)         148.0        202      0.732673\n",
       "2        3  33.021122   [2,148)          96.0        135      0.711111\n",
       "3        4  39.732813   [0,160)          46.0         69      0.666667\n",
       "6        7  59.076126   [5,166)          24.0         32      0.750000\n",
       "7        8  39.660653   [5,121)          14.0         20      0.700000\n",
       "8        9  86.709806  [20,401)          13.0         16      0.812500"
      ]
     },
     "execution_count": 123,
     "metadata": {},
     "output_type": "execute_result"
    }
   ],
   "source": [
    "df"
   ]
  },
  {
   "cell_type": "code",
   "execution_count": 124,
   "metadata": {},
   "outputs": [],
   "source": [
    "# scatter\n",
    "x = np.array(df['average'])\n",
    "y = np.array(df['success_rate'])\n",
    "# x = np.array(df['median_hourly_rate'])\n",
    "# y = np.array(df['success_rate'])"
   ]
  },
  {
   "cell_type": "code",
   "execution_count": 125,
   "metadata": {},
   "outputs": [
    {
     "data": {
      "text/plain": [
       "<matplotlib.collections.PathCollection at 0x1087206d0>"
      ]
     },
     "execution_count": 125,
     "metadata": {},
     "output_type": "execute_result"
    },
    {
     "data": {
      "image/png": "[encoded data removed]",
      "text/plain": [
       "<Figure size 432x288 with 1 Axes>"
      ]
     },
     "metadata": {},
     "output_type": "display_data"
    }
   ],
   "source": [
    "plt.scatter(x, y, s=30, alpha=0.15, marker='o')"
   ]
  },
  {
   "cell_type": "code",
   "execution_count": 126,
   "metadata": {},
   "outputs": [],
   "source": [
    "par = np.polyfit(x, y, 1, full=True)"
   ]
  },
  {
   "cell_type": "code",
   "execution_count": 127,
   "metadata": {},
   "outputs": [
    {
     "data": {
      "text/plain": [
       "(array([ 0.00176688,  0.64581438]),\n",
       " array([ 0.0040471]),\n",
       " 2,\n",
       " array([ 1.3784415 ,  0.31606809]),\n",
       " 1.5543122344752192e-15)"
      ]
     },
     "execution_count": 127,
     "metadata": {},
     "output_type": "execute_result"
    }
   ],
   "source": [
    "par"
   ]
  },
  {
   "cell_type": "code",
   "execution_count": 128,
   "metadata": {},
   "outputs": [],
   "source": [
    "slope=par[0][0]\n",
    "intercept=par[0][1]\n",
    "xl = [min(x), max(x)]\n",
    "yl = [slope*xx + intercept for xx in xl]"
   ]
  },
  {
   "cell_type": "code",
   "execution_count": 129,
   "metadata": {},
   "outputs": [
    {
     "data": {
      "text/plain": [
       "0.0017668774645238942"
      ]
     },
     "execution_count": 129,
     "metadata": {},
     "output_type": "execute_result"
    }
   ],
   "source": [
    "slope"
   ]
  },
  {
   "cell_type": "code",
   "execution_count": 130,
   "metadata": {},
   "outputs": [
    {
     "data": {
      "text/plain": [
       "0.64581438230390653"
      ]
     },
     "execution_count": 130,
     "metadata": {},
     "output_type": "execute_result"
    }
   ],
   "source": [
    "intercept"
   ]
  },
  {
   "cell_type": "code",
   "execution_count": null,
   "metadata": {},
   "outputs": [],
   "source": []
  }
 ],
 "metadata": {
  "kernelspec": {
   "display_name": "Python 2",
   "language": "python",
   "name": "python2"
  },
  "language_info": {
   "codemirror_mode": {
    "name": "ipython",
    "version": 2
   },
   "file_extension": ".py",
   "mimetype": "text/x-python",
   "name": "python",
   "nbconvert_exporter": "python",
   "pygments_lexer": "ipython2",
   "version": "2.7.11"
  }
 },
 "nbformat": 4,
 "nbformat_minor": 2
}
